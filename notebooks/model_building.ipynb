{
 "cells": [
  {
   "cell_type": "markdown",
   "metadata": {},
   "source": [
    "Build a regression model."
   ]
  },
  {
   "cell_type": "code",
   "execution_count": 1,
   "metadata": {},
   "outputs": [],
   "source": [
    "#imports\n",
    "import pandas as pd\n",
    "import seaborn as sns\n",
    "import matplotlib.pyplot as plt\n",
    "import statsmodels.api as sm"
   ]
  },
  {
   "cell_type": "code",
   "execution_count": 30,
   "metadata": {},
   "outputs": [
    {
     "data": {
      "text/html": [
       "<div>\n",
       "<style scoped>\n",
       "    .dataframe tbody tr th:only-of-type {\n",
       "        vertical-align: middle;\n",
       "    }\n",
       "\n",
       "    .dataframe tbody tr th {\n",
       "        vertical-align: top;\n",
       "    }\n",
       "\n",
       "    .dataframe thead th {\n",
       "        text-align: right;\n",
       "    }\n",
       "</style>\n",
       "<table border=\"1\" class=\"dataframe\">\n",
       "  <thead>\n",
       "    <tr style=\"text-align: right;\">\n",
       "      <th></th>\n",
       "      <th>Name</th>\n",
       "      <th>Latitude</th>\n",
       "      <th>Longitude</th>\n",
       "      <th>Number of Free Bikes</th>\n",
       "      <th>Rest/Bar Rating(FS)</th>\n",
       "      <th>Average Distance_Bar_x</th>\n",
       "      <th>Average Distance_Gym_x</th>\n",
       "      <th>Rest/Bar Rating(YELP)</th>\n",
       "      <th>Average Distance_Bar_y</th>\n",
       "      <th>Average Distance_Gym_y</th>\n",
       "    </tr>\n",
       "  </thead>\n",
       "  <tbody>\n",
       "    <tr>\n",
       "      <th>0</th>\n",
       "      <td>Parc Anet-Gomin</td>\n",
       "      <td>46.786588</td>\n",
       "      <td>-71.258231</td>\n",
       "      <td>5</td>\n",
       "      <td>0    8.1\\n1    NaN\\n2    8.5\\n3    7.0\\n4    7...</td>\n",
       "      <td>711.3</td>\n",
       "      <td>777.125000</td>\n",
       "      <td>0     4.5\\n1     4.5\\n2     4.5\\n3     4.0\\n4 ...</td>\n",
       "      <td>877.117260</td>\n",
       "      <td>0.000000</td>\n",
       "    </tr>\n",
       "    <tr>\n",
       "      <th>1</th>\n",
       "      <td>Sheppard / William</td>\n",
       "      <td>46.784041</td>\n",
       "      <td>-71.249391</td>\n",
       "      <td>4</td>\n",
       "      <td>0    7.8\\n1    8.5\\n2    6.6\\n3    7.7\\n4    7...</td>\n",
       "      <td>355.2</td>\n",
       "      <td>142.000000</td>\n",
       "      <td>0     4.5\\n1     4.5\\n2     4.5\\n3     4.0\\n4 ...</td>\n",
       "      <td>334.688704</td>\n",
       "      <td>0.000000</td>\n",
       "    </tr>\n",
       "    <tr>\n",
       "      <th>2</th>\n",
       "      <td>ExpoCité - Grand Marché</td>\n",
       "      <td>46.829433</td>\n",
       "      <td>-71.244066</td>\n",
       "      <td>4</td>\n",
       "      <td>0    8.1\\n1    NaN\\n2    NaN\\n3    NaN\\n4    6...</td>\n",
       "      <td>302.2</td>\n",
       "      <td>701.857143</td>\n",
       "      <td>0     5.0\\n1     4.5\\n2     5.0\\n3     5.0\\n4 ...</td>\n",
       "      <td>775.248808</td>\n",
       "      <td>960.440552</td>\n",
       "    </tr>\n",
       "    <tr>\n",
       "      <th>3</th>\n",
       "      <td>Lavigueur / Sainte-Geneviève</td>\n",
       "      <td>46.812403</td>\n",
       "      <td>-71.220411</td>\n",
       "      <td>7</td>\n",
       "      <td>0    9.1\\n1    8.6\\n2    8.5\\n3    8.9\\n4    9...</td>\n",
       "      <td>376.9</td>\n",
       "      <td>568.800000</td>\n",
       "      <td>0     4.0\\n1     4.5\\n2     5.0\\n3     4.0\\n4 ...</td>\n",
       "      <td>526.095304</td>\n",
       "      <td>596.684360</td>\n",
       "    </tr>\n",
       "    <tr>\n",
       "      <th>4</th>\n",
       "      <td>ExpoCité - Place Jean-Béliveau</td>\n",
       "      <td>46.826553</td>\n",
       "      <td>-71.245978</td>\n",
       "      <td>4</td>\n",
       "      <td>0    8.1\\n1    9.1\\n2    NaN\\n3    NaN\\n4    N...</td>\n",
       "      <td>395.1</td>\n",
       "      <td>608.500000</td>\n",
       "      <td>0     5.0\\n1     5.0\\n2     4.5\\n3     4.0\\n4 ...</td>\n",
       "      <td>772.152088</td>\n",
       "      <td>0.000000</td>\n",
       "    </tr>\n",
       "  </tbody>\n",
       "</table>\n",
       "</div>"
      ],
      "text/plain": [
       "                             Name   Latitude  Longitude  Number of Free Bikes  \\\n",
       "0                 Parc Anet-Gomin  46.786588 -71.258231                     5   \n",
       "1              Sheppard / William  46.784041 -71.249391                     4   \n",
       "2         ExpoCité - Grand Marché  46.829433 -71.244066                     4   \n",
       "3    Lavigueur / Sainte-Geneviève  46.812403 -71.220411                     7   \n",
       "4  ExpoCité - Place Jean-Béliveau  46.826553 -71.245978                     4   \n",
       "\n",
       "                                 Rest/Bar Rating(FS)  Average Distance_Bar_x  \\\n",
       "0  0    8.1\\n1    NaN\\n2    8.5\\n3    7.0\\n4    7...                   711.3   \n",
       "1  0    7.8\\n1    8.5\\n2    6.6\\n3    7.7\\n4    7...                   355.2   \n",
       "2  0    8.1\\n1    NaN\\n2    NaN\\n3    NaN\\n4    6...                   302.2   \n",
       "3  0    9.1\\n1    8.6\\n2    8.5\\n3    8.9\\n4    9...                   376.9   \n",
       "4  0    8.1\\n1    9.1\\n2    NaN\\n3    NaN\\n4    N...                   395.1   \n",
       "\n",
       "   Average Distance_Gym_x                              Rest/Bar Rating(YELP)  \\\n",
       "0              777.125000  0     4.5\\n1     4.5\\n2     4.5\\n3     4.0\\n4 ...   \n",
       "1              142.000000  0     4.5\\n1     4.5\\n2     4.5\\n3     4.0\\n4 ...   \n",
       "2              701.857143  0     5.0\\n1     4.5\\n2     5.0\\n3     5.0\\n4 ...   \n",
       "3              568.800000  0     4.0\\n1     4.5\\n2     5.0\\n3     4.0\\n4 ...   \n",
       "4              608.500000  0     5.0\\n1     5.0\\n2     4.5\\n3     4.0\\n4 ...   \n",
       "\n",
       "   Average Distance_Bar_y  Average Distance_Gym_y  \n",
       "0              877.117260                0.000000  \n",
       "1              334.688704                0.000000  \n",
       "2              775.248808              960.440552  \n",
       "3              526.095304              596.684360  \n",
       "4              772.152088                0.000000  "
      ]
     },
     "execution_count": 30,
     "metadata": {},
     "output_type": "execute_result"
    }
   ],
   "source": [
    "#import data from previous step\n",
    "BIKE_FS_YELP_DF = pd.read_csv(\"../data/BIKE_FS_YELP_DF.csv\")\n",
    "BIKE_FS_YELP_DF.head()"
   ]
  },
  {
   "cell_type": "code",
   "execution_count": 31,
   "metadata": {},
   "outputs": [],
   "source": [
    "#creating variables for the regression\n",
    "y = BIKE_FS_YELP_DF['Number of Free Bikes']\n",
    "x = BIKE_FS_YELP_DF[['Average Distance_Bar_x', 'Average Distance_Gym_x', 'Average Distance_Bar_y', 'Average Distance_Gym_y']]\n",
    "\n",
    "x = sm.add_constant(x) #adds a constant/intercept for the regression\n",
    "\n",
    "#create the model\n",
    "model = sm.OLS(y, x)\n",
    "regression = model.fit()"
   ]
  },
  {
   "cell_type": "markdown",
   "metadata": {},
   "source": [
    "Provide model output and an interpretation of the results. "
   ]
  },
  {
   "cell_type": "code",
   "execution_count": 32,
   "metadata": {},
   "outputs": [
    {
     "name": "stdout",
     "output_type": "stream",
     "text": [
      "                             OLS Regression Results                             \n",
      "================================================================================\n",
      "Dep. Variable:     Number of Free Bikes   R-squared:                       0.075\n",
      "Model:                              OLS   Adj. R-squared:                  0.021\n",
      "Method:                   Least Squares   F-statistic:                     1.391\n",
      "Date:                  Mon, 23 Oct 2023   Prob (F-statistic):              0.246\n",
      "Time:                          12:27:32   Log-Likelihood:                -202.15\n",
      "No. Observations:                    74   AIC:                             414.3\n",
      "Df Residuals:                        69   BIC:                             425.8\n",
      "Df Model:                             4                                         \n",
      "Covariance Type:              nonrobust                                         \n",
      "==========================================================================================\n",
      "                             coef    std err          t      P>|t|      [0.025      0.975]\n",
      "------------------------------------------------------------------------------------------\n",
      "const                      9.2165      1.695      5.437      0.000       5.835      12.598\n",
      "Average Distance_Bar_x     0.0035      0.004      0.786      0.434      -0.005       0.012\n",
      "Average Distance_Gym_x    -0.0040      0.002     -1.755      0.084      -0.008       0.001\n",
      "Average Distance_Bar_y    -0.0004      0.003     -0.126      0.900      -0.006       0.005\n",
      "Average Distance_Gym_y    -0.0011      0.001     -0.926      0.358      -0.003       0.001\n",
      "==============================================================================\n",
      "Omnibus:                        9.094   Durbin-Watson:                   2.043\n",
      "Prob(Omnibus):                  0.011   Jarque-Bera (JB):                8.692\n",
      "Skew:                           0.762   Prob(JB):                       0.0130\n",
      "Kurtosis:                       3.706   Cond. No.                     3.82e+03\n",
      "==============================================================================\n",
      "\n",
      "Notes:\n",
      "[1] Standard Errors assume that the covariance matrix of the errors is correctly specified.\n",
      "[2] The condition number is large, 3.82e+03. This might indicate that there are\n",
      "strong multicollinearity or other numerical problems.\n"
     ]
    }
   ],
   "source": [
    "print(regression.summary())"
   ]
  },
  {
   "cell_type": "code",
   "execution_count": 47,
   "metadata": {},
   "outputs": [],
   "source": [
    "# drop the columns with high p values to see if they increase fit of model\n",
    "# i.e. distance from bars and yelp results for average gym distance\n",
    "x = BIKE_FS_YELP_DF[['Average Distance_Gym_x']]\n",
    "\n",
    "x = sm.add_constant(x) #adds a constant/intercept for the regression\n",
    "\n",
    "#create the model\n",
    "model = sm.OLS(y, x)\n",
    "regression1 = model.fit()"
   ]
  },
  {
   "cell_type": "code",
   "execution_count": 48,
   "metadata": {},
   "outputs": [
    {
     "name": "stdout",
     "output_type": "stream",
     "text": [
      "                             OLS Regression Results                             \n",
      "================================================================================\n",
      "Dep. Variable:     Number of Free Bikes   R-squared:                       0.046\n",
      "Model:                              OLS   Adj. R-squared:                  0.033\n",
      "Method:                   Least Squares   F-statistic:                     3.491\n",
      "Date:                  Mon, 23 Oct 2023   Prob (F-statistic):             0.0658\n",
      "Time:                          13:59:19   Log-Likelihood:                -203.27\n",
      "No. Observations:                    74   AIC:                             410.5\n",
      "Df Residuals:                        72   BIC:                             415.1\n",
      "Df Model:                             1                                         \n",
      "Covariance Type:              nonrobust                                         \n",
      "==========================================================================================\n",
      "                             coef    std err          t      P>|t|      [0.025      0.975]\n",
      "------------------------------------------------------------------------------------------\n",
      "const                     10.0030      1.228      8.147      0.000       7.555      12.450\n",
      "Average Distance_Gym_x    -0.0038      0.002     -1.868      0.066      -0.008       0.000\n",
      "==============================================================================\n",
      "Omnibus:                        9.838   Durbin-Watson:                   2.068\n",
      "Prob(Omnibus):                  0.007   Jarque-Bera (JB):                9.666\n",
      "Skew:                           0.774   Prob(JB):                      0.00796\n",
      "Kurtosis:                       3.859   Cond. No.                     1.66e+03\n",
      "==============================================================================\n",
      "\n",
      "Notes:\n",
      "[1] Standard Errors assume that the covariance matrix of the errors is correctly specified.\n",
      "[2] The condition number is large, 1.66e+03. This might indicate that there are\n",
      "strong multicollinearity or other numerical problems.\n"
     ]
    }
   ],
   "source": [
    "print(regression1.summary())"
   ]
  },
  {
   "cell_type": "code",
   "execution_count": 45,
   "metadata": {},
   "outputs": [
    {
     "data": {
      "image/png": "[encoded data removed]",
      "text/plain": [
       "<Figure size 640x480 with 1 Axes>"
      ]
     },
     "metadata": {},
     "output_type": "display_data"
    }
   ],
   "source": [
    "#visual representation of regression consisting of scatter plot and line of best fit\n",
    "sns.regplot(x = BIKE_FS_YELP_DF['Average Distance_Gym_x'], y = BIKE_FS_YELP_DF['Number of Free Bikes'], ci=None)\n",
    "plt.savefig('../images/RegLOBF.png')\n"
   ]
  },
  {
   "cell_type": "code",
   "execution_count": 46,
   "metadata": {},
   "outputs": [
    {
     "data": {
      "image/png": "[encoded data removed]",
      "text/plain": [
       "<Figure size 640x480 with 1 Axes>"
      ]
     },
     "metadata": {},
     "output_type": "display_data"
    }
   ],
   "source": [
    "#check distribution of residuals\n",
    "residuals = regression1.resid\n",
    "\n",
    "sns.histplot(residuals)\n",
    "plt.savefig('../images/residualDist.png')\n",
    "\n",
    "plt.show()"
   ]
  },
  {
   "cell_type": "code",
   "execution_count": 28,
   "metadata": {},
   "outputs": [
    {
     "name": "stdout",
     "output_type": "stream",
     "text": [
      "                             OLS Regression Results                             \n",
      "================================================================================\n",
      "Dep. Variable:     Number of Free Bikes   R-squared:                       0.026\n",
      "Model:                              OLS   Adj. R-squared:                  0.012\n",
      "Method:                   Least Squares   F-statistic:                     1.768\n",
      "Date:                  Mon, 23 Oct 2023   Prob (F-statistic):              0.188\n",
      "Time:                          12:23:18   Log-Likelihood:                -173.55\n",
      "No. Observations:                    67   AIC:                             351.1\n",
      "Df Residuals:                        65   BIC:                             355.5\n",
      "Df Model:                             1                                         \n",
      "Covariance Type:              nonrobust                                         \n",
      "==========================================================================================\n",
      "                             coef    std err          t      P>|t|      [0.025      0.975]\n",
      "------------------------------------------------------------------------------------------\n",
      "const                      4.8395      1.991      2.431      0.018       0.864       8.815\n",
      "Average Distance_Gym_x     0.0042      0.003      1.330      0.188      -0.002       0.010\n",
      "==============================================================================\n",
      "Omnibus:                        2.303   Durbin-Watson:                   2.049\n",
      "Prob(Omnibus):                  0.316   Jarque-Bera (JB):                1.822\n",
      "Skew:                           0.402   Prob(JB):                        0.402\n",
      "Kurtosis:                       3.082   Cond. No.                     3.14e+03\n",
      "==============================================================================\n",
      "\n",
      "Notes:\n",
      "[1] Standard Errors assume that the covariance matrix of the errors is correctly specified.\n",
      "[2] The condition number is large, 3.14e+03. This might indicate that there are\n",
      "strong multicollinearity or other numerical problems.\n"
     ]
    }
   ],
   "source": [
    "#Try another regression but without stations without a local gym\n",
    "df_noZeros = BIKE_FS_YELP_DF[BIKE_FS_YELP_DF['Average Distance_Gym_x'] !=0]\n",
    "\n",
    "#creating variables for the regression\n",
    "y = df_noZeros['Number of Free Bikes']\n",
    "x = df_noZeros[['Average Distance_Gym_x']]\n",
    "\n",
    "x = sm.add_constant(x) #adds a constant/intercept for the regression\n",
    "\n",
    "#create the model\n",
    "model = sm.OLS(y, x)\n",
    "regression2 = model.fit()\n",
    "\n",
    "print(regression2.summary()) #results in lower accuracy"
   ]
  },
  {
   "cell_type": "markdown",
   "metadata": {},
   "source": [
    "Interpertation Summary"
   ]
  },
  {
   "cell_type": "markdown",
   "metadata": {},
   "source": [
    "Based on the three regressions ran within the notebook, the second utilizing the average distance from gym(foursquare) as the only dependant variable provides the most insight. The first multiple-regression contains high p-values for the coefficients and a high adjusted r-squared indicating the model does not explain many of the variations in the independent variable – the third regression, in which all stations without a local gym had been dropped, had similar issues.\n",
    "\n",
    "The second regression reveals a negative correlation between the number of free bikes within any given station and its average distance from a gym – simply put, on average, the further a bike station is from a gym the more available bike there will be at said station. In regards to interpretation, the model indicates that on average, for every 100 meters a bike stand is closer to a gym there will be roughly 4 fewer bikes.\n",
    "\n",
    "However, there are some issues concerning the fit of the model. Firstly, the regression has a R-squared of only 0.046, indicating it only accounts for roughly 4.6% of variations in the model. Furthermore, the coefficient of “Average Distance from a Gym” has a p-value of 0.066 which falls outside the 0.05 p-value threshold; if the confidence interval had been lowered to a value such as 90%, the data be enough to reject the null hypothesis of H0: β = 0, indicating a significant correlation. Provided the current result, the model fails to reject the null hypothesis, meaning there still could be no relationship between the independent and dependent variables. \n"
   ]
  },
  {
   "cell_type": "markdown",
   "metadata": {},
   "source": [
    "# Stretch"
   ]
  },
  {
   "cell_type": "markdown",
   "metadata": {},
   "source": [
    "How can you turn the regression model into a classification model?"
   ]
  },
  {
   "cell_type": "code",
   "execution_count": null,
   "metadata": {},
   "outputs": [],
   "source": []
  }
 ],
 "metadata": {
  "kernelspec": {
   "display_name": "Python 3",
   "language": "python",
   "name": "python3"
  },
  "language_info": {
   "codemirror_mode": {
    "name": "ipython",
    "version": 3
   },
   "file_extension": ".py",
   "mimetype": "text/x-python",
   "name": "python",
   "nbconvert_exporter": "python",
   "pygments_lexer": "ipython3",
   "version": "3.11.5"
  }
 },
 "nbformat": 4,
 "nbformat_minor": 4
}
