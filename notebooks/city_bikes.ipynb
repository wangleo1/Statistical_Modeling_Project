{
 "cells": [
  {
   "cell_type": "markdown",
   "metadata": {},
   "source": [
    "# CityBikes"
   ]
  },
  {
   "cell_type": "markdown",
   "metadata": {},
   "source": [
    "Send a request to CityBikes for the city of your choice. "
   ]
  },
  {
   "cell_type": "code",
   "execution_count": 1,
   "metadata": {},
   "outputs": [],
   "source": [
    "#imports\n",
    "import requests\n",
    "import pandas as pd"
   ]
  },
  {
   "cell_type": "code",
   "execution_count": 2,
   "metadata": {},
   "outputs": [
    {
     "name": "stdout",
     "output_type": "stream",
     "text": [
      "Success : Toronto bike station information pulled\n"
     ]
    }
   ],
   "source": [
    "#pulling the data\n",
    "url = 'http://api.citybik.es/v2/networks/toronto'\n",
    "request = requests.get(url)\n",
    "\n",
    "#check if the data was pulled succesfully ()\n",
    "if request.status_code == 200:\n",
    "    print('Success : Toronto bike station information pulled')\n",
    "else:\n",
    "    print('Failed: status code = '+ request.status_code)\n"
   ]
  },
  {
   "cell_type": "markdown",
   "metadata": {},
   "source": [
    "Parse through the response to get the details you want for the bike stations in that city (latitude, longitude, number of bikes). "
   ]
  },
  {
   "cell_type": "code",
   "execution_count": 3,
   "metadata": {},
   "outputs": [],
   "source": [
    "#turn request into a JSON\n",
    "bikeStation_json = request.json()\n",
    "\n",
    "#simplify json by only including station data\n",
    "station_json = bikeStation_json['network']['stations']\n",
    "\n",
    "#create empty lists for each variable\n",
    "# These lists will be the columns for our dataframe\n",
    "\n",
    "name,lat,long,numBikes = [],[],[],[]\n",
    "\n",
    "for stations in station_json:\n",
    "    name.append(stations['name'])\n",
    "    lat.append(stations['latitude'])\n",
    "    long.append(stations['longitude'])\n",
    "    numBikes.append(stations['free_bikes'])\n",
    "\n"
   ]
  },
  {
   "cell_type": "markdown",
   "metadata": {},
   "source": [
    "Put your parsed results into a DataFrame."
   ]
  },
  {
   "cell_type": "code",
   "execution_count": 4,
   "metadata": {},
   "outputs": [],
   "source": [
    "#create a df and parse the list/information into it\n",
    "stationDF = pd.DataFrame({\n",
    "    \"Name\": name,\n",
    "    \"Latitude\": lat,\n",
    "    \"Longitude\": long,\n",
    "    \"Number of Free Bikes\": numBikes\n",
    "}\n",
    ")"
   ]
  },
  {
   "cell_type": "code",
   "execution_count": 11,
   "metadata": {},
   "outputs": [],
   "source": [
    "#Saving the dataframe as a .csv\n",
    "\n",
    "#setting path\n",
    "path = \"../data/Toronto_BikeCity.csv\"\n",
    "\n",
    "#saving\n",
    "stationDF.to_csv(path, index=False)"
   ]
  }
 ],
 "metadata": {
  "kernelspec": {
   "display_name": "Python 3",
   "language": "python",
   "name": "python3"
  },
  "language_info": {
   "codemirror_mode": {
    "name": "ipython",
    "version": 3
   },
   "file_extension": ".py",
   "mimetype": "text/x-python",
   "name": "python",
   "nbconvert_exporter": "python",
   "pygments_lexer": "ipython3",
   "version": "3.11.5"
  }
 },
 "nbformat": 4,
 "nbformat_minor": 4
}
