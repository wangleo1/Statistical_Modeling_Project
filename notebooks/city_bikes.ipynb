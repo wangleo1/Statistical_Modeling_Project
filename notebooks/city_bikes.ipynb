{
 "cells": [
  {
   "cell_type": "markdown",
   "metadata": {},
   "source": [
    "# CityBikes"
   ]
  },
  {
   "cell_type": "markdown",
   "metadata": {},
   "source": [
    "Send a request to CityBikes for the city of your choice. "
   ]
  },
  {
   "cell_type": "code",
   "execution_count": 2,
   "metadata": {},
   "outputs": [],
   "source": [
    "#imports\n",
    "import requests \n",
    "import pandas as pd"
   ]
  },
  {
   "cell_type": "code",
   "execution_count": 3,
   "metadata": {},
   "outputs": [
    {
     "name": "stdout",
     "output_type": "stream",
     "text": [
      "Success : Quebec bike station information pulled\n"
     ]
    }
   ],
   "source": [
    "#pulling the data\n",
    "url = 'http://api.citybik.es/v2/networks/avelo-quebec'\n",
    "request = requests.get(url)\n",
    "\n",
    "#check if the data was pulled succesfully ()\n",
    "if request.status_code == 200:\n",
    "    print('Success : Quebec bike station information pulled')\n",
    "else:\n",
    "    print('Failed: status code = '+ request.status_code)\n"
   ]
  },
  {
   "cell_type": "markdown",
   "metadata": {},
   "source": [
    "Parse through the response to get the details you want for the bike stations in that city (latitude, longitude, number of bikes). "
   ]
  },
  {
   "cell_type": "code",
   "execution_count": 4,
   "metadata": {},
   "outputs": [],
   "source": [
    "#turn request into a JSON\n",
    "bikeStation_json = request.json()\n",
    "\n",
    "#simplify json by only including station data\n",
    "station_json = bikeStation_json['network']['stations']\n",
    "\n",
    "#create empty lists for each variable\n",
    "# These lists will be the columns for our dataframe\n",
    "name,lat,long,numBikes = [],[],[],[]\n",
    "\n",
    "for stations in station_json:\n",
    "    name.append(stations['name'])\n",
    "    lat.append(stations['latitude'])\n",
    "    long.append(stations['longitude'])\n",
    "    numBikes.append(stations['free_bikes'])\n",
    "\n"
   ]
  },
  {
   "cell_type": "markdown",
   "metadata": {},
   "source": [
    "Put your parsed results into a DataFrame."
   ]
  },
  {
   "cell_type": "code",
   "execution_count": 8,
   "metadata": {},
   "outputs": [
    {
     "data": {
      "text/html": [
       "<div>\n",
       "<style scoped>\n",
       "    .dataframe tbody tr th:only-of-type {\n",
       "        vertical-align: middle;\n",
       "    }\n",
       "\n",
       "    .dataframe tbody tr th {\n",
       "        vertical-align: top;\n",
       "    }\n",
       "\n",
       "    .dataframe thead th {\n",
       "        text-align: right;\n",
       "    }\n",
       "</style>\n",
       "<table border=\"1\" class=\"dataframe\">\n",
       "  <thead>\n",
       "    <tr style=\"text-align: right;\">\n",
       "      <th></th>\n",
       "      <th>Name</th>\n",
       "      <th>Latitude</th>\n",
       "      <th>Longitude</th>\n",
       "      <th>Number of Free Bikes</th>\n",
       "    </tr>\n",
       "  </thead>\n",
       "  <tbody>\n",
       "    <tr>\n",
       "      <th>0</th>\n",
       "      <td>Parc Anet-Gomin</td>\n",
       "      <td>46.786588</td>\n",
       "      <td>-71.258231</td>\n",
       "      <td>5</td>\n",
       "    </tr>\n",
       "    <tr>\n",
       "      <th>1</th>\n",
       "      <td>Sheppard / William</td>\n",
       "      <td>46.784041</td>\n",
       "      <td>-71.249391</td>\n",
       "      <td>9</td>\n",
       "    </tr>\n",
       "    <tr>\n",
       "      <th>2</th>\n",
       "      <td>ExpoCité - Grand Marché</td>\n",
       "      <td>46.829433</td>\n",
       "      <td>-71.244066</td>\n",
       "      <td>5</td>\n",
       "    </tr>\n",
       "    <tr>\n",
       "      <th>3</th>\n",
       "      <td>Lavigueur / Sainte-Geneviève</td>\n",
       "      <td>46.812403</td>\n",
       "      <td>-71.220411</td>\n",
       "      <td>2</td>\n",
       "    </tr>\n",
       "    <tr>\n",
       "      <th>4</th>\n",
       "      <td>ExpoCité - Place Jean-Béliveau</td>\n",
       "      <td>46.826553</td>\n",
       "      <td>-71.245978</td>\n",
       "      <td>3</td>\n",
       "    </tr>\n",
       "    <tr>\n",
       "      <th>...</th>\n",
       "      <td>...</td>\n",
       "      <td>...</td>\n",
       "      <td>...</td>\n",
       "      <td>...</td>\n",
       "    </tr>\n",
       "    <tr>\n",
       "      <th>69</th>\n",
       "      <td>Place Jacques-Cartier</td>\n",
       "      <td>46.814340</td>\n",
       "      <td>-71.224898</td>\n",
       "      <td>19</td>\n",
       "    </tr>\n",
       "    <tr>\n",
       "      <th>70</th>\n",
       "      <td>Bourdages / Monseigneur-Plessis</td>\n",
       "      <td>46.816606</td>\n",
       "      <td>-71.241658</td>\n",
       "      <td>3</td>\n",
       "    </tr>\n",
       "    <tr>\n",
       "      <th>71</th>\n",
       "      <td>ULaval - PEPS</td>\n",
       "      <td>46.783205</td>\n",
       "      <td>-71.276189</td>\n",
       "      <td>19</td>\n",
       "    </tr>\n",
       "    <tr>\n",
       "      <th>72</th>\n",
       "      <td>Église Saint-Sauveur</td>\n",
       "      <td>46.811548</td>\n",
       "      <td>-71.235388</td>\n",
       "      <td>10</td>\n",
       "    </tr>\n",
       "    <tr>\n",
       "      <th>73</th>\n",
       "      <td>La Fabrique</td>\n",
       "      <td>46.812391</td>\n",
       "      <td>-71.225779</td>\n",
       "      <td>16</td>\n",
       "    </tr>\n",
       "  </tbody>\n",
       "</table>\n",
       "<p>74 rows × 4 columns</p>\n",
       "</div>"
      ],
      "text/plain": [
       "                               Name   Latitude  Longitude  \\\n",
       "0                   Parc Anet-Gomin  46.786588 -71.258231   \n",
       "1                Sheppard / William  46.784041 -71.249391   \n",
       "2           ExpoCité - Grand Marché  46.829433 -71.244066   \n",
       "3      Lavigueur / Sainte-Geneviève  46.812403 -71.220411   \n",
       "4    ExpoCité - Place Jean-Béliveau  46.826553 -71.245978   \n",
       "..                              ...        ...        ...   \n",
       "69            Place Jacques-Cartier  46.814340 -71.224898   \n",
       "70  Bourdages / Monseigneur-Plessis  46.816606 -71.241658   \n",
       "71                    ULaval - PEPS  46.783205 -71.276189   \n",
       "72             Église Saint-Sauveur  46.811548 -71.235388   \n",
       "73                      La Fabrique  46.812391 -71.225779   \n",
       "\n",
       "    Number of Free Bikes  \n",
       "0                      5  \n",
       "1                      9  \n",
       "2                      5  \n",
       "3                      2  \n",
       "4                      3  \n",
       "..                   ...  \n",
       "69                    19  \n",
       "70                     3  \n",
       "71                    19  \n",
       "72                    10  \n",
       "73                    16  \n",
       "\n",
       "[74 rows x 4 columns]"
      ]
     },
     "execution_count": 8,
     "metadata": {},
     "output_type": "execute_result"
    }
   ],
   "source": [
    "#create a df and parse the list/information into it\n",
    "stationDF = pd.DataFrame({\n",
    "    \"Name\": name,\n",
    "    \"Latitude\": lat,\n",
    "    \"Longitude\": long,\n",
    "    \"Number of Free Bikes\": numBikes\n",
    "}\n",
    ")\n",
    "stationDF"
   ]
  },
  {
   "cell_type": "code",
   "execution_count": 13,
   "metadata": {},
   "outputs": [],
   "source": [
    "#Saving the dataframe as a .csv\n",
    "\n",
    "#setting path\n",
    "path = \"../data/Quebec_BikeCity.csv\"\n",
    "\n",
    "#saving\n",
    "stationDF.to_csv(path, index=False)"
   ]
  }
 ],
 "metadata": {
  "kernelspec": {
   "display_name": "Python 3",
   "language": "python",
   "name": "python3"
  },
  "language_info": {
   "codemirror_mode": {
    "name": "ipython",
    "version": 3
   },
   "file_extension": ".py",
   "mimetype": "text/x-python",
   "name": "python",
   "nbconvert_exporter": "python",
   "pygments_lexer": "ipython3",
   "version": "3.11.5"
  }
 },
 "nbformat": 4,
 "nbformat_minor": 4
}
