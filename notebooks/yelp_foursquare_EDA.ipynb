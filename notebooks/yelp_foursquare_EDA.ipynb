{
 "cells": [
  {
   "cell_type": "code",
   "execution_count": 2,
   "metadata": {},
   "outputs": [],
   "source": [
    "# imports\n",
    "import pandas as pd\n",
    "import requests\n",
    "import os"
   ]
  },
  {
   "cell_type": "markdown",
   "metadata": {},
   "source": [
    "# Foursquare"
   ]
  },
  {
   "cell_type": "markdown",
   "metadata": {},
   "source": [
    "Send a request to Foursquare with a small radius (1000m) for all the bike stations in your city of choice. "
   ]
  },
  {
   "cell_type": "code",
   "execution_count": 5,
   "metadata": {},
   "outputs": [],
   "source": [
    "# import data from previous part/defining variables\n",
    "bikeDF = pd.read_csv('../data/Toronto_BikeCity.csv')\n",
    "\n",
    "#creating variables for the request\n",
    "FOURSQUARE_KEY = os.environ['FOURSQUARE_API_KEY']\n",
    "url = \"https://api.foursquare.com/v3/places/search\"\n",
    "\n",
    "#one list that will contain a bunch of dictionaries\n",
    "FScontainer =[]\n",
    "\n",
    "#loops through all the different bike stations, grabbing all the restaurants/bars within a 1000m radius\n",
    "for index, row in bikeDF.iterrows():\n",
    "    lat = row['Latitude']\n",
    "    long = row['Longitude']\n",
    "\n",
    "    # set parameters so it grabs specific information on bar/restuarants \n",
    "    params = {\n",
    "        'll': f'{lat},{long}',\n",
    "        'categoryId': '13003,13065',  # ID for dining and drinking\n",
    "        \"radius\": '1000',\n",
    "        'fields': 'name,location,categories,distance'\n",
    "    }\n",
    "    headers = {\n",
    "        \"Accept\": \"application/json\",\n",
    "        \"Authorization\": FOURSQUARE_KEY\n",
    "    }\n",
    "\n",
    "    #gather the data and turn it into a JSON\n",
    "    request = requests.get(url, params=params, headers=headers)\n",
    "    data=request.json()\n",
    "\n",
    "    #create a more refined JSON which goes into the 'results' key (this will make it easier to call specific elements later)\n",
    "    resultsJSON = data['results']\n",
    "    #turn the refined JSON into a dataframe(easier to grab info from)\n",
    "    resultsDF = pd.DataFrame(resultsJSON)\n",
    "\n",
    "    #add a dictionary, containing all the relavent info, into the empty list\n",
    "    #each entry in the list corresponds to a singular bike station\n",
    "    FScontainer.append({\n",
    "        'Latitude': lat,\n",
    "        'Longitude': long,\n",
    "        'Foursquare Name': resultsDF['name'],\n",
    "        'Distance': resultsDF['distance']\n",
    "        })\n",
    "\n"
   ]
  },
  {
   "cell_type": "markdown",
   "metadata": {},
   "source": [
    "Parse through the response to get the POI (such as restaurants, bars, etc) details you want (ratings, name, location, etc)"
   ]
  },
  {
   "cell_type": "code",
   "execution_count": 54,
   "metadata": {},
   "outputs": [
    {
     "data": {
      "text/html": [
       "<div>\n",
       "<style scoped>\n",
       "    .dataframe tbody tr th:only-of-type {\n",
       "        vertical-align: middle;\n",
       "    }\n",
       "\n",
       "    .dataframe tbody tr th {\n",
       "        vertical-align: top;\n",
       "    }\n",
       "\n",
       "    .dataframe thead th {\n",
       "        text-align: right;\n",
       "    }\n",
       "</style>\n",
       "<table border=\"1\" class=\"dataframe\">\n",
       "  <thead>\n",
       "    <tr style=\"text-align: right;\">\n",
       "      <th></th>\n",
       "      <th>Latitude</th>\n",
       "      <th>Longitude</th>\n",
       "      <th>Foursquare Name</th>\n",
       "      <th>Distance</th>\n",
       "    </tr>\n",
       "  </thead>\n",
       "  <tbody>\n",
       "    <tr>\n",
       "      <th>0</th>\n",
       "      <td>43.665269</td>\n",
       "      <td>-79.319796</td>\n",
       "      <td>0    Leslieville Farmers Market\n",
       "1             ...</td>\n",
       "      <td>0     40\n",
       "1    194\n",
       "2    129\n",
       "3    186\n",
       "4    300\n",
       "5...</td>\n",
       "    </tr>\n",
       "    <tr>\n",
       "      <th>1</th>\n",
       "      <td>43.671420</td>\n",
       "      <td>-79.445947</td>\n",
       "      <td>0          Balzac's Coffee Roasters\n",
       "1         ...</td>\n",
       "      <td>0    284\n",
       "1    339\n",
       "2    270\n",
       "3    581\n",
       "4    505\n",
       "5...</td>\n",
       "    </tr>\n",
       "    <tr>\n",
       "      <th>2</th>\n",
       "      <td>43.666224</td>\n",
       "      <td>-79.317693</td>\n",
       "      <td>0                     Velotique\n",
       "1             ...</td>\n",
       "      <td>0     17\n",
       "1    100\n",
       "2    223\n",
       "3    180\n",
       "4    257\n",
       "5...</td>\n",
       "    </tr>\n",
       "    <tr>\n",
       "      <th>3</th>\n",
       "      <td>43.653236</td>\n",
       "      <td>-79.376716</td>\n",
       "      <td>0    Elgin &amp; Winter Garden Theatre Ctr\n",
       "1      ...</td>\n",
       "      <td>0    145\n",
       "1    154\n",
       "2    183\n",
       "3    198\n",
       "4    204\n",
       "5...</td>\n",
       "    </tr>\n",
       "    <tr>\n",
       "      <th>4</th>\n",
       "      <td>43.663722</td>\n",
       "      <td>-79.380288</td>\n",
       "      <td>0                     Black Eagle\n",
       "1           ...</td>\n",
       "      <td>0     43\n",
       "1     74\n",
       "2    111\n",
       "3    140\n",
       "4    196\n",
       "5...</td>\n",
       "    </tr>\n",
       "  </tbody>\n",
       "</table>\n",
       "</div>"
      ],
      "text/plain": [
       "    Latitude  Longitude                                    Foursquare Name  \\\n",
       "0  43.665269 -79.319796  0    Leslieville Farmers Market\n",
       "1             ...   \n",
       "1  43.671420 -79.445947  0          Balzac's Coffee Roasters\n",
       "1         ...   \n",
       "2  43.666224 -79.317693  0                     Velotique\n",
       "1             ...   \n",
       "3  43.653236 -79.376716  0    Elgin & Winter Garden Theatre Ctr\n",
       "1      ...   \n",
       "4  43.663722 -79.380288  0                     Black Eagle\n",
       "1           ...   \n",
       "\n",
       "                                            Distance  \n",
       "0  0     40\n",
       "1    194\n",
       "2    129\n",
       "3    186\n",
       "4    300\n",
       "5...  \n",
       "1  0    284\n",
       "1    339\n",
       "2    270\n",
       "3    581\n",
       "4    505\n",
       "5...  \n",
       "2  0     17\n",
       "1    100\n",
       "2    223\n",
       "3    180\n",
       "4    257\n",
       "5...  \n",
       "3  0    145\n",
       "1    154\n",
       "2    183\n",
       "3    198\n",
       "4    204\n",
       "5...  \n",
       "4  0     43\n",
       "1     74\n",
       "2    111\n",
       "3    140\n",
       "4    196\n",
       "5...  "
      ]
     },
     "execution_count": 54,
     "metadata": {},
     "output_type": "execute_result"
    }
   ],
   "source": [
    "#requests and parsing of response had been completed in prior step/cell"
   ]
  },
  {
   "cell_type": "markdown",
   "metadata": {},
   "source": [
    "Put your parsed results into a DataFrame"
   ]
  },
  {
   "cell_type": "code",
   "execution_count": 6,
   "metadata": {},
   "outputs": [
    {
     "data": {
      "text/html": [
       "<div>\n",
       "<style scoped>\n",
       "    .dataframe tbody tr th:only-of-type {\n",
       "        vertical-align: middle;\n",
       "    }\n",
       "\n",
       "    .dataframe tbody tr th {\n",
       "        vertical-align: top;\n",
       "    }\n",
       "\n",
       "    .dataframe thead th {\n",
       "        text-align: right;\n",
       "    }\n",
       "</style>\n",
       "<table border=\"1\" class=\"dataframe\">\n",
       "  <thead>\n",
       "    <tr style=\"text-align: right;\">\n",
       "      <th></th>\n",
       "      <th>Latitude</th>\n",
       "      <th>Longitude</th>\n",
       "      <th>Foursquare Name</th>\n",
       "      <th>Distance</th>\n",
       "    </tr>\n",
       "  </thead>\n",
       "  <tbody>\n",
       "    <tr>\n",
       "      <th>0</th>\n",
       "      <td>43.665269</td>\n",
       "      <td>-79.319796</td>\n",
       "      <td>0    Leslieville Farmers Market\n",
       "1             ...</td>\n",
       "      <td>0     40\n",
       "1    194\n",
       "2    129\n",
       "3    186\n",
       "4    300\n",
       "5...</td>\n",
       "    </tr>\n",
       "    <tr>\n",
       "      <th>1</th>\n",
       "      <td>43.671420</td>\n",
       "      <td>-79.445947</td>\n",
       "      <td>0          Balzac's Coffee Roasters\n",
       "1         ...</td>\n",
       "      <td>0    284\n",
       "1    339\n",
       "2    270\n",
       "3    581\n",
       "4    505\n",
       "5...</td>\n",
       "    </tr>\n",
       "    <tr>\n",
       "      <th>2</th>\n",
       "      <td>43.666224</td>\n",
       "      <td>-79.317693</td>\n",
       "      <td>0                     Velotique\n",
       "1             ...</td>\n",
       "      <td>0     17\n",
       "1    100\n",
       "2    223\n",
       "3    180\n",
       "4    257\n",
       "5...</td>\n",
       "    </tr>\n",
       "    <tr>\n",
       "      <th>3</th>\n",
       "      <td>43.653236</td>\n",
       "      <td>-79.376716</td>\n",
       "      <td>0    Elgin &amp; Winter Garden Theatre Ctr\n",
       "1      ...</td>\n",
       "      <td>0    145\n",
       "1    154\n",
       "2    183\n",
       "3    198\n",
       "4    204\n",
       "5...</td>\n",
       "    </tr>\n",
       "    <tr>\n",
       "      <th>4</th>\n",
       "      <td>43.663722</td>\n",
       "      <td>-79.380288</td>\n",
       "      <td>0                     Black Eagle\n",
       "1           ...</td>\n",
       "      <td>0     43\n",
       "1     74\n",
       "2    111\n",
       "3    140\n",
       "4    196\n",
       "5...</td>\n",
       "    </tr>\n",
       "  </tbody>\n",
       "</table>\n",
       "</div>"
      ],
      "text/plain": [
       "    Latitude  Longitude                                    Foursquare Name  \\\n",
       "0  43.665269 -79.319796  0    Leslieville Farmers Market\n",
       "1             ...   \n",
       "1  43.671420 -79.445947  0          Balzac's Coffee Roasters\n",
       "1         ...   \n",
       "2  43.666224 -79.317693  0                     Velotique\n",
       "1             ...   \n",
       "3  43.653236 -79.376716  0    Elgin & Winter Garden Theatre Ctr\n",
       "1      ...   \n",
       "4  43.663722 -79.380288  0                     Black Eagle\n",
       "1           ...   \n",
       "\n",
       "                                            Distance  \n",
       "0  0     40\n",
       "1    194\n",
       "2    129\n",
       "3    186\n",
       "4    300\n",
       "5...  \n",
       "1  0    284\n",
       "1    339\n",
       "2    270\n",
       "3    581\n",
       "4    505\n",
       "5...  \n",
       "2  0     17\n",
       "1    100\n",
       "2    223\n",
       "3    180\n",
       "4    257\n",
       "5...  \n",
       "3  0    145\n",
       "1    154\n",
       "2    183\n",
       "3    198\n",
       "4    204\n",
       "5...  \n",
       "4  0     43\n",
       "1     74\n",
       "2    111\n",
       "3    140\n",
       "4    196\n",
       "5...  "
      ]
     },
     "execution_count": 6,
     "metadata": {},
     "output_type": "execute_result"
    }
   ],
   "source": [
    "FOURSQUARE_DF = pd.DataFrame(FScontainer)\n",
    "FOURSQUARE_DF.head()"
   ]
  },
  {
   "cell_type": "markdown",
   "metadata": {},
   "source": [
    "# Yelp"
   ]
  },
  {
   "cell_type": "markdown",
   "metadata": {},
   "source": [
    "Send a request to Yelp with a small radius (1000m) for all the bike stations in your city of choice. "
   ]
  },
  {
   "cell_type": "code",
   "execution_count": 4,
   "metadata": {},
   "outputs": [
    {
     "ename": "NameError",
     "evalue": "name 'bikeDF' is not defined",
     "output_type": "error",
     "traceback": [
      "\u001b[1;31m---------------------------------------------------------------------------\u001b[0m",
      "\u001b[1;31mNameError\u001b[0m                                 Traceback (most recent call last)",
      "\u001b[1;32mc:\\Users\\l3onw\\OneDrive\\Desktop\\PythonLHL\\Statistical_Modeling_Project\\notebooks\\yelp_foursquare_EDA.ipynb Cell 12\u001b[0m line \u001b[0;36m9\n\u001b[0;32m      <a href='vscode-notebook-cell:/c%3A/Users/l3onw/OneDrive/Desktop/PythonLHL/Statistical_Modeling_Project/notebooks/yelp_foursquare_EDA.ipynb#X13sZmlsZQ%3D%3D?line=5'>6</a>\u001b[0m YELPcontainer \u001b[39m=\u001b[39m[]\n\u001b[0;32m      <a href='vscode-notebook-cell:/c%3A/Users/l3onw/OneDrive/Desktop/PythonLHL/Statistical_Modeling_Project/notebooks/yelp_foursquare_EDA.ipynb#X13sZmlsZQ%3D%3D?line=7'>8</a>\u001b[0m \u001b[39m#loops through all the different bike stations, grabbing all the restaurants/bars within a 1000m radius\u001b[39;00m\n\u001b[1;32m----> <a href='vscode-notebook-cell:/c%3A/Users/l3onw/OneDrive/Desktop/PythonLHL/Statistical_Modeling_Project/notebooks/yelp_foursquare_EDA.ipynb#X13sZmlsZQ%3D%3D?line=8'>9</a>\u001b[0m \u001b[39mfor\u001b[39;00m index, row \u001b[39min\u001b[39;00m bikeDF\u001b[39m.\u001b[39miterrows():\n\u001b[0;32m     <a href='vscode-notebook-cell:/c%3A/Users/l3onw/OneDrive/Desktop/PythonLHL/Statistical_Modeling_Project/notebooks/yelp_foursquare_EDA.ipynb#X13sZmlsZQ%3D%3D?line=9'>10</a>\u001b[0m     lat \u001b[39m=\u001b[39m row[\u001b[39m'\u001b[39m\u001b[39mLatitude\u001b[39m\u001b[39m'\u001b[39m]\n\u001b[0;32m     <a href='vscode-notebook-cell:/c%3A/Users/l3onw/OneDrive/Desktop/PythonLHL/Statistical_Modeling_Project/notebooks/yelp_foursquare_EDA.ipynb#X13sZmlsZQ%3D%3D?line=10'>11</a>\u001b[0m     long \u001b[39m=\u001b[39m row[\u001b[39m'\u001b[39m\u001b[39mLongitude\u001b[39m\u001b[39m'\u001b[39m]\n",
      "\u001b[1;31mNameError\u001b[0m: name 'bikeDF' is not defined"
     ]
    }
   ],
   "source": [
    "\n",
    "#creating variables for the request\n",
    "YELP_KEY = os.environ['YELP_API_KEY']\n",
    "url = \"https://api.yelp.com/v3/businesses/search\"\n",
    "\n",
    "#one list that will contain a bunch of dictionaries\n",
    "YELPcontainer =[]\n",
    "\n",
    "#loops through all the different bike stations, grabbing all the restaurants/bars within a 1000m radius\n",
    "for index, row in bikeDF.iterrows():\n",
    "    lat = row['Latitude']\n",
    "    long = row['Longitude']\n",
    "\n",
    "    params = {\n",
    "        'latitude': lat,\n",
    "        'longitude': long,\n",
    "        'radius': '1000',\n",
    "        'categories': 'restaurants,bars',\n",
    "    }\n",
    "    headers = {\n",
    "        'Authorization': 'Bearer '+ YELP_KEY\n",
    "    }\n",
    "\n",
    "    response = requests.get(url, params=params, headers=headers)\n"
   ]
  },
  {
   "cell_type": "markdown",
   "metadata": {},
   "source": [
    "Parse through the response to get the POI (such as restaurants, bars, etc) details you want (ratings, name, location, etc)"
   ]
  },
  {
   "cell_type": "code",
   "execution_count": null,
   "metadata": {},
   "outputs": [],
   "source": []
  },
  {
   "cell_type": "markdown",
   "metadata": {},
   "source": [
    "Put your parsed results into a DataFrame"
   ]
  },
  {
   "cell_type": "code",
   "execution_count": null,
   "metadata": {},
   "outputs": [],
   "source": []
  },
  {
   "cell_type": "markdown",
   "metadata": {},
   "source": []
  },
  {
   "cell_type": "markdown",
   "metadata": {},
   "source": [
    "# Comparing Results"
   ]
  },
  {
   "cell_type": "markdown",
   "metadata": {},
   "source": [
    "Which API provided you with more complete data? Provide an explanation. "
   ]
  },
  {
   "cell_type": "markdown",
   "metadata": {},
   "source": []
  },
  {
   "cell_type": "markdown",
   "metadata": {},
   "source": [
    "Get the top 10 restaurants according to their rating"
   ]
  },
  {
   "cell_type": "code",
   "execution_count": null,
   "metadata": {},
   "outputs": [],
   "source": []
  }
 ],
 "metadata": {
  "kernelspec": {
   "display_name": "Python 3",
   "language": "python",
   "name": "python3"
  },
  "language_info": {
   "codemirror_mode": {
    "name": "ipython",
    "version": 3
   },
   "file_extension": ".py",
   "mimetype": "text/x-python",
   "name": "python",
   "nbconvert_exporter": "python",
   "pygments_lexer": "ipython3",
   "version": "3.11.5"
  }
 },
 "nbformat": 4,
 "nbformat_minor": 4
}
